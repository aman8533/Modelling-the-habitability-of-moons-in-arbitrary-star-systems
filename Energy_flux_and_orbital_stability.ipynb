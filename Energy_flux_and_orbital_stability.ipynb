{
 "cells": [
  {
   "cell_type": "code",
   "execution_count": 1,
   "metadata": {},
   "outputs": [
    {
     "name": "stdout",
     "output_type": "stream",
     "text": [
      "95.18979384041253\n"
     ]
    },
    {
     "data": {
      "text/plain": [
       "Text(0, 0.5, 'Temperature of surface (K)')"
      ]
     },
     "execution_count": 1,
     "metadata": {},
     "output_type": "execute_result"
    },
    {
     "data": {
      "image/png": "[encoded data removed]",
      "text/plain": [
       "<Figure size 432x288 with 1 Axes>"
      ]
     },
     "metadata": {
      "needs_background": "light"
     },
     "output_type": "display_data"
    }
   ],
   "source": [
    "import numpy as np\n",
    "import matplotlib.pyplot as plt\n",
    "import math\n",
    "\n",
    "G = 6.672 * 10**(-11)\n",
    "SB_Constant = 5.67 * 10**(-8)\n",
    "L_sol = 3.828 * 10**26\n",
    "\n",
    "# Tidal heating of the moon from the host\n",
    "def Tidal_Heating_MoonFromHost(R,a,e,M_h,k2):\n",
    "    R = int(input(\"Value for the moon radius (R): \"))\n",
    "    a = int(input(\"Value for the orbital distance (a): \"))\n",
    "    e = int(input(\"Value for the eccentriccity (a): \"))\n",
    "    M_h = int(input(\"Value for the host mass (a): \"))\n",
    "    k2 = int(input(\"Value for the imaginary part of the second-order love number (a): \"))\n",
    "    \n",
    "    Tidal_Heating_MoonFromHost = -k2*21/2*(G**(3/2) * M_h**(5/2) * R**5 * e**2) / (a**(15/2))\n",
    "    \n",
    "    return Tidal_Heating_MoonFromHost\n",
    "\n",
    "# Stellar illumination/heating of the moon from the star\n",
    "\n",
    "\n",
    "#def Stellar_Energy():\n",
    "    \n",
    "\n",
    "# Tidal heating between the satellites\n",
    "\n",
    "\n",
    "# Eclipses\n",
    "\n",
    "\n",
    "\n",
    "# Calculation of distance from the planet for which a moon is habitable (y-axis)\n",
    "\n",
    "\n",
    "\n",
    "# Semi-major axis (x-axis)\n",
    "\n",
    "\n",
    "# Temperature at the surface of the moon\n",
    "\n",
    "def temp(solar_constant, albedo):\n",
    "    #solar_constant = int(input(\"Value for the solar constant (solar_constant): \"))\n",
    "    #albedo = int(input(\"Value for the albedo (albedo): \"))\n",
    "    \n",
    "    temp = ((solar_constant * (1-albedo) / (4 * SB_Constant)))**0.25\n",
    "    return temp\n",
    "\n",
    "#Moon's orbital semi-major axis : 1.00000261 AU.\n",
    "#Phobos' orbital semi-major axis : 9,380km.\n",
    "#Deimos' orbital semi-major axis : 23,460km.\n",
    "#Io's orbital semi-major axis : 421,800km.\n",
    "#Europa's orbital semi-major axis : 671,100km.\n",
    "#Ganymede's orbital semi-major axis : 1,070,400km.\n",
    "#Callisto's orbital semi-major axis : 1,882,700km.\n",
    "#Enceladus' orbital semi-major axis : 238,040km.\n",
    "#Rhea's orbital semi-major axis : 527,070km.\n",
    "#Titan's orbital semi-major axis : 1,221,870km.\n",
    "\n",
    "def TSI(R):\n",
    "    TSI = (L_sol) / (4 * (math.pi) * R**(2))\n",
    "    return TSI\n",
    "    \n",
    "    \n",
    "Semi_Major_Axis = [1.00000261, 1.5236623284371, 1.5236623284371, 5.203362964711, 5.203362964711, 5.203362964711, 5.203362964711, 9.5370702358533, 9.5370702358533, 9.5370702358533 ]\n",
    "Surface_Temp = [temp(TSI(150*10**(9)),0.12), temp(TSI(2.28*10**(11)),0.071), temp(TSI(2.28*10**(11)),0.07), temp(TSI(7.78*10**(11)),0.63), temp(TSI(7.80*10**(11)),0.67), temp(TSI(7.78*10**(11)),0.43), temp(TSI(7.78*10**(11)),0.22), temp(TSI(1.4*10**(12)),0.81), temp(TSI(1.428*10**(12)),0.949), temp(TSI(1.4*10**(12)),0.22)]\n",
    "\n",
    "print(temp(TSI(7.78*10**(11)),0.63))\n",
    "\n",
    "plt.scatter(Semi_Major_Axis, Surface_Temp)\n",
    "plt.xlabel(\"Semi-major axis (AU)\")\n",
    "plt.ylabel(\"Temperature of surface (K)\")"
   ]
  },
  {
   "cell_type": "code",
   "execution_count": null,
   "metadata": {},
   "outputs": [],
   "source": []
  },
  {
   "cell_type": "code",
   "execution_count": null,
   "metadata": {},
   "outputs": [],
   "source": []
  },
  {
   "cell_type": "code",
   "execution_count": null,
   "metadata": {},
   "outputs": [],
   "source": []
  },
  {
   "cell_type": "code",
   "execution_count": null,
   "metadata": {},
   "outputs": [],
   "source": []
  },
  {
   "cell_type": "code",
   "execution_count": null,
   "metadata": {},
   "outputs": [],
   "source": []
  },
  {
   "cell_type": "code",
   "execution_count": null,
   "metadata": {},
   "outputs": [],
   "source": []
  },
  {
   "cell_type": "code",
   "execution_count": null,
   "metadata": {},
   "outputs": [],
   "source": []
  }
 ],
 "metadata": {
  "kernelspec": {
   "display_name": "Python 3",
   "language": "python",
   "name": "python3"
  },
  "language_info": {
   "codemirror_mode": {
    "name": "ipython",
    "version": 3
   },
   "file_extension": ".py",
   "mimetype": "text/x-python",
   "name": "python",
   "nbconvert_exporter": "python",
   "pygments_lexer": "ipython3",
   "version": "3.8.5"
  }
 },
 "nbformat": 4,
 "nbformat_minor": 4
}
